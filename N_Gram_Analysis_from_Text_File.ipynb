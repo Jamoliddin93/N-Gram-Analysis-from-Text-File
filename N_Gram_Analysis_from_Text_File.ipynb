{
  "nbformat": 4,
  "nbformat_minor": 0,
  "metadata": {
    "colab": {
      "provenance": [],
      "authorship_tag": "ABX9TyOX5utoK9aqaDOMoE8/TG+O",
      "include_colab_link": true
    },
    "kernelspec": {
      "name": "python3",
      "display_name": "Python 3"
    },
    "language_info": {
      "name": "python"
    }
  },
  "cells": [
    {
      "cell_type": "markdown",
      "metadata": {
        "id": "view-in-github",
        "colab_type": "text"
      },
      "source": [
        "<a href=\"https://colab.research.google.com/github/Jamoliddin93/N-Gram-Analysis-from-Text-File/blob/main/N_Gram_Analysis_from_Text_File.ipynb\" target=\"_parent\"><img src=\"https://colab.research.google.com/assets/colab-badge.svg\" alt=\"Open In Colab\"/></a>"
      ]
    },
    {
      "cell_type": "code",
      "execution_count": 2,
      "metadata": {
        "colab": {
          "base_uri": "https://localhost:8080/"
        },
        "id": "8HmsISxqZpSg",
        "outputId": "27294fef-a320-4dee-99d8-c0ce4d205bc7"
      },
      "outputs": [
        {
          "output_type": "stream",
          "name": "stdout",
          "text": [
            "Book downloaded and saved as Sorcerers_Stone.txt\n"
          ]
        }
      ],
      "source": [
        "# Install the requests package if it's not already installed\n",
        "# !pip install requests\n",
        "\n",
        "import requests\n",
        "import string\n",
        "\n",
        "# Function to download the book from a URL\n",
        "def download_book(url, filename):\n",
        "    response = requests.get(url)\n",
        "    if response.status_code == 200:\n",
        "        with open(filename, 'w', encoding='utf-8') as file:\n",
        "            file.write(response.text)\n",
        "        print(f\"Book downloaded and saved as {filename}\")\n",
        "    else:\n",
        "        print(\"Failed to download the book\")\n",
        "\n",
        "# URL of the book\n",
        "url = \"https://raw.githubusercontent.com/amephraim/nlp/refs/heads/master/texts/J.%20K.%20Rowling%20-%20Harry%20Potter%201%20-%20Sorcerer's%20Stone.txt\"\n",
        "# Filename to save the book\n",
        "filename = \"Sorcerers_Stone.txt\"\n",
        "\n",
        "# Download the book\n",
        "download_book(url, filename)\n",
        "\n",
        "# Load the text file\n",
        "with open(filename, 'r') as f:\n",
        "    text = f.read().lower()\n",
        "\n",
        "# Preprocess the text: remove punctuation\n",
        "translator = str.maketrans(\"\", \"\", string.punctuation)\n",
        "cleaned_text = text.translate(translator)\n"
      ]
    },
    {
      "cell_type": "code",
      "source": [
        "words = cleaned_text.split()"
      ],
      "metadata": {
        "id": "uRUhyPaiaqNA"
      },
      "execution_count": 3,
      "outputs": []
    },
    {
      "cell_type": "code",
      "source": [
        "bigrams = [(words[i], words[i+1]) for i in range(len(words)-1)]"
      ],
      "metadata": {
        "id": "zIHdRvAMbDIH"
      },
      "execution_count": 4,
      "outputs": []
    },
    {
      "cell_type": "code",
      "source": [
        "from collections import Counter\n",
        "bigram_counts = Counter(bigrams)"
      ],
      "metadata": {
        "id": "Gzi0jYEGXF41"
      },
      "execution_count": 5,
      "outputs": []
    },
    {
      "cell_type": "code",
      "source": [
        "top_5_bigrams = bigram_counts.most_common(5)\n",
        "print(top_5_bigrams)"
      ],
      "metadata": {
        "colab": {
          "base_uri": "https://localhost:8080/"
        },
        "id": "zd5gSS6LXMK4",
        "outputId": "439db102-a4c4-4c81-ed6f-94ca877208f6"
      },
      "execution_count": 10,
      "outputs": [
        {
          "output_type": "stream",
          "name": "stdout",
          "text": [
            "[(('of', 'the'), 285), (('in', 'the'), 269), (('on', 'the'), 217), (('it', 'was'), 207), (('he', 'was'), 194)]\n"
          ]
        }
      ]
    },
    {
      "cell_type": "code",
      "source": [
        "def generate_ngrams(words, n):\n",
        "    return [(words[i:i+n]) for i in range(len(words)-n+1)]"
      ],
      "metadata": {
        "id": "GR4QJNzNXUUk"
      },
      "execution_count": 7,
      "outputs": []
    }
  ]
}